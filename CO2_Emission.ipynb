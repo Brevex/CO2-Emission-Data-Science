{
  "nbformat": 4,
  "nbformat_minor": 0,
  "metadata": {
    "colab": {
      "provenance": [],
      "authorship_tag": "ABX9TyM8MyDtg3AA+3pTpnKgCTLz",
      "include_colab_link": true
    },
    "kernelspec": {
      "name": "python3",
      "display_name": "Python 3"
    },
    "language_info": {
      "name": "python"
    }
  },
  "cells": [
    {
      "cell_type": "markdown",
      "metadata": {
        "id": "view-in-github",
        "colab_type": "text"
      },
      "source": [
        "<a href=\"https://colab.research.google.com/github/Brevex/CO2-Emission---Data-Science/blob/main/Ci%C3%AAncia_de_Dados_ATV_2.ipynb\" target=\"_parent\"><img src=\"https://colab.research.google.com/assets/colab-badge.svg\" alt=\"Open In Colab\"/></a>"
      ]
    },
    {
      "cell_type": "code",
      "execution_count": 1,
      "metadata": {
        "id": "RyRVVCtjjyUR"
      },
      "outputs": [],
      "source": [
        "# Importando bibliotecas\n",
        "\n",
        "import pandas as pd\n",
        "import numpy as np"
      ]
    },
    {
      "cell_type": "code",
      "source": [
        "# Baixando o arquivo do google drive\n",
        "\n",
        "!gdown https://drive.google.com/uc?id=1FL491HmduZCDbTBPhIKHIvW2kLuqoiYJ"
      ],
      "metadata": {
        "id": "SqPRC8vkj4sh"
      },
      "execution_count": null,
      "outputs": []
    },
    {
      "cell_type": "code",
      "source": [
        "# Alocando os dados do arquivo para uma variável e mostrando as colunas\n",
        "\n",
        "df = pd.read_table('CO2_emission.txt')\n",
        "df.columns"
      ],
      "metadata": {
        "id": "1T02CfbCt5_G"
      },
      "execution_count": null,
      "outputs": []
    },
    {
      "cell_type": "code",
      "source": [
        "# Ao pedir as informações dos dados da tabela, nota-se que alguns dados terão que ser tratados\n",
        "# Os dados numéricos não estão sendo reconhecidos como float\n",
        "\n",
        "print(df.info())"
      ],
      "metadata": {
        "id": "_W9H2jBTqktf"
      },
      "execution_count": null,
      "outputs": []
    },
    {
      "cell_type": "code",
      "source": [
        "# Removendo os dados NaN\n",
        "\n",
        "df_tratado = df.dropna()\n",
        "\n",
        "# Removendo linhas com dados faltantes no dataframe\n",
        "\n",
        "df_tratado.drop(df_tratado[df_tratado['2000 [YR2000]'] == '..'].index, axis = 0, inplace = True)\n",
        "df_tratado.drop(df_tratado[df_tratado['2001 [YR2001]'] == '..'].index, axis = 0, inplace = True)\n",
        "df_tratado.drop(df_tratado[df_tratado['2002 [YR2002]'] == '..'].index, axis = 0, inplace = True)\n",
        "df_tratado.drop(df_tratado[df_tratado['2003 [YR2003]'] == '..'].index, axis = 0, inplace = True)\n",
        "df_tratado.drop(df_tratado[df_tratado['2004 [YR2004]'] == '..'].index, axis = 0, inplace = True)\n",
        "df_tratado.drop(df_tratado[df_tratado['2005 [YR2005]'] == '..'].index, axis = 0, inplace = True)\n",
        "df_tratado.drop(df_tratado[df_tratado['2006 [YR2006]'] == '..'].index, axis = 0, inplace = True)\n",
        "df_tratado.drop(df_tratado[df_tratado['2007 [YR2007]'] == '..'].index, axis = 0, inplace = True)\n",
        "df_tratado.drop(df_tratado[df_tratado['2008 [YR2008]'] == '..'].index, axis = 0, inplace = True)\n",
        "df_tratado.drop(df_tratado[df_tratado['2009 [YR2009]'] == '..'].index, axis = 0, inplace = True)\n",
        "df_tratado.drop(df_tratado[df_tratado['2010 [YR2010]'] == '..'].index, axis = 0, inplace = True)\n",
        "df_tratado.drop(df_tratado[df_tratado['2011 [YR2011]'] == '..'].index, axis = 0, inplace = True)\n",
        "df_tratado.drop(df_tratado[df_tratado['2012 [YR2012]'] == '..'].index, axis = 0, inplace = True)\n",
        "df_tratado.drop(df_tratado[df_tratado['2013 [YR2013]'] == '..'].index, axis = 0, inplace = True)\n",
        "df_tratado.drop(df_tratado[df_tratado['2014 [YR2014]'] == '..'].index, axis = 0, inplace = True)"
      ],
      "metadata": {
        "id": "YLd20Bcc6IAY"
      },
      "execution_count": null,
      "outputs": []
    },
    {
      "cell_type": "code",
      "source": [
        "# Convertendo dados do tipo 'object' para 'float'\n",
        "\n",
        "df_tratado['2000 [YR2000]'] = df_tratado['2000 [YR2000]'].astype(float)\n",
        "df_tratado['2001 [YR2001]'] = df_tratado['2001 [YR2001]'].astype(float)\n",
        "df_tratado['2002 [YR2002]'] = df_tratado['2002 [YR2002]'].astype(float)\n",
        "df_tratado['2003 [YR2003]'] = df_tratado['2003 [YR2003]'].astype(float)\n",
        "df_tratado['2004 [YR2004]'] = df_tratado['2004 [YR2004]'].astype(float)\n",
        "df_tratado['2005 [YR2005]'] = df_tratado['2005 [YR2005]'].astype(float)\n",
        "df_tratado['2006 [YR2006]'] = df_tratado['2006 [YR2006]'].astype(float)\n",
        "df_tratado['2007 [YR2007]'] = df_tratado['2007 [YR2007]'].astype(float)\n",
        "df_tratado['2008 [YR2008]'] = df_tratado['2008 [YR2008]'].astype(float)\n",
        "df_tratado['2009 [YR2009]'] = df_tratado['2009 [YR2009]'].astype(float)\n",
        "df_tratado['2010 [YR2010]'] = df_tratado['2010 [YR2010]'].astype(float)\n",
        "df_tratado['2011 [YR2011]'] = df_tratado['2011 [YR2011]'].astype(float)\n",
        "df_tratado['2012 [YR2012]'] = df_tratado['2012 [YR2012]'].astype(float)\n",
        "df_tratado['2013 [YR2013]'] = df_tratado['2013 [YR2013]'].astype(float)\n",
        "df_tratado['2014 [YR2014]'] = df_tratado['2014 [YR2014]'].astype(float)"
      ],
      "metadata": {
        "id": "LzU-Q98N8YWQ"
      },
      "execution_count": null,
      "outputs": []
    },
    {
      "cell_type": "code",
      "source": [
        "# Somando as colunas correspondentes aos anos e alocando o resultado em uma nova coluna 'sum'\n",
        "\n",
        "df_tratado['sum'] = df_tratado[[\n",
        "        '2000 [YR2000]', '2001 [YR2001]', '2002 [YR2002]', '2003 [YR2003]',\n",
        "        '2004 [YR2004]', '2005 [YR2005]', '2006 [YR2006]', '2007 [YR2007]',\n",
        "        '2008 [YR2008]', '2009 [YR2009]', '2010 [YR2010]', '2011 [YR2011]',\n",
        "        '2012 [YR2012]', '2013 [YR2013]', '2014 [YR2014]']].sum(axis = 1)"
      ],
      "metadata": {
        "id": "vtwuZRl8vG88"
      },
      "execution_count": null,
      "outputs": []
    },
    {
      "cell_type": "code",
      "source": [
        "# Rankeando o dataframe em ordem crescente pela tabela 'sum'\n",
        "\n",
        "df_final = df_tratado.sort_values(by = 'sum', ascending = True)"
      ],
      "metadata": {
        "id": "2Eo3NjM7AnDZ"
      },
      "execution_count": 8,
      "outputs": []
    },
    {
      "cell_type": "code",
      "source": [
        "df_final"
      ],
      "metadata": {
        "id": "ax7bMJ8ujqi6"
      },
      "execution_count": null,
      "outputs": []
    },
    {
      "cell_type": "code",
      "source": [
        "# Monstrando qual país que teve a menor emissão de CO2\n",
        "\n",
        "pais_menor_emissao = df_final.iloc[0]['Country Name']\n",
        "print(pais_menor_emissao)"
      ],
      "metadata": {
        "id": "z_n9x8fvg9ui"
      },
      "execution_count": null,
      "outputs": []
    },
    {
      "cell_type": "code",
      "source": [
        "# Mostrando ano em que houve mais emissão\n",
        "\n",
        "maior_emissao = df_final.iloc[:, 4:-1].max().idxmax()\n",
        "print(maior_emissao)"
      ],
      "metadata": {
        "id": "UZcKABu9iNW2"
      },
      "execution_count": null,
      "outputs": []
    },
    {
      "cell_type": "code",
      "source": [
        "# Mostrando a posição do Brasil em relação aos outros países\n",
        "\n",
        "posicao_brasil = df_final[df_final['Country Name'] == 'Brazil'].index[0]\n",
        "print(posicao_brasil)"
      ],
      "metadata": {
        "id": "JMFqtDwKkKDg"
      },
      "execution_count": null,
      "outputs": []
    }
  ]
}
